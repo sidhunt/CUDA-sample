{
  "nbformat": 4,
  "nbformat_minor": 0,
  "metadata": {
    "colab": {
      "name": "CUDA.ipynb",
      "provenance": [],
      "authorship_tag": "ABX9TyOAPtZ/28h2IqPDI5Zy+jHe",
      "include_colab_link": true
    },
    "kernelspec": {
      "name": "python3",
      "display_name": "Python 3"
    },
    "accelerator": "GPU"
  },
  "cells": [
    {
      "cell_type": "markdown",
      "metadata": {
        "id": "view-in-github",
        "colab_type": "text"
      },
      "source": [
        "<a href=\"https://colab.research.google.com/github/sidhunt/CUDA-sample/blob/main/CUDA.ipynb\" target=\"_parent\"><img src=\"https://colab.research.google.com/assets/colab-badge.svg\" alt=\"Open In Colab\"/></a>"
      ]
    },
    {
      "cell_type": "code",
      "metadata": {
        "id": "ODkWrF3d3mCR",
        "colab": {
          "base_uri": "https://localhost:8080/"
        },
        "outputId": "38a1f5e0-fb20-4422-c475-9344eda3712a"
      },
      "source": [
        "!nvidia-smi"
      ],
      "execution_count": null,
      "outputs": [
        {
          "output_type": "stream",
          "text": [
            "Fri Oct 30 14:17:43 2020       \n",
            "+-----------------------------------------------------------------------------+\n",
            "| NVIDIA-SMI 455.32.00    Driver Version: 418.67       CUDA Version: 10.1     |\n",
            "|-------------------------------+----------------------+----------------------+\n",
            "| GPU  Name        Persistence-M| Bus-Id        Disp.A | Volatile Uncorr. ECC |\n",
            "| Fan  Temp  Perf  Pwr:Usage/Cap|         Memory-Usage | GPU-Util  Compute M. |\n",
            "|                               |                      |               MIG M. |\n",
            "|===============================+======================+======================|\n",
            "|   0  Tesla T4            Off  | 00000000:00:04.0 Off |                    0 |\n",
            "| N/A   38C    P8     9W /  70W |      0MiB / 15079MiB |      0%      Default |\n",
            "|                               |                      |                 ERR! |\n",
            "+-------------------------------+----------------------+----------------------+\n",
            "                                                                               \n",
            "+-----------------------------------------------------------------------------+\n",
            "| Processes:                                                                  |\n",
            "|  GPU   GI   CI        PID   Type   Process name                  GPU Memory |\n",
            "|        ID   ID                                                   Usage      |\n",
            "|=============================================================================|\n",
            "|  No running processes found                                                 |\n",
            "+-----------------------------------------------------------------------------+\n"
          ],
          "name": "stdout"
        }
      ]
    },
    {
      "cell_type": "code",
      "metadata": {
        "id": "XGK-mpMp37u4",
        "colab": {
          "base_uri": "https://localhost:8080/"
        },
        "outputId": "a0bd2eef-844e-4f6f-bfef-c86efb62c01f"
      },
      "source": [
        "import torch\n",
        "torch.cuda.is_available()"
      ],
      "execution_count": null,
      "outputs": [
        {
          "output_type": "execute_result",
          "data": {
            "text/plain": [
              "True"
            ]
          },
          "metadata": {
            "tags": []
          },
          "execution_count": 4
        }
      ]
    },
    {
      "cell_type": "code",
      "metadata": {
        "id": "iXGojJu3395w",
        "colab": {
          "base_uri": "https://localhost:8080/",
          "height": 35
        },
        "outputId": "6f715527-ab3e-47f6-d130-cabb9495d63c"
      },
      "source": [
        "import tensorflow as tf\n",
        "tf.test.gpu_device_name()"
      ],
      "execution_count": null,
      "outputs": [
        {
          "output_type": "execute_result",
          "data": {
            "application/vnd.google.colaboratory.intrinsic+json": {
              "type": "string"
            },
            "text/plain": [
              "'/device:GPU:0'"
            ]
          },
          "metadata": {
            "tags": []
          },
          "execution_count": 5
        }
      ]
    },
    {
      "cell_type": "code",
      "metadata": {
        "id": "IJTyL3hi4U8h",
        "colab": {
          "base_uri": "https://localhost:8080/"
        },
        "outputId": "40ed9dbe-534b-40cd-95c8-45145e2ec867"
      },
      "source": [
        "!pip install git+git://github.com/andreinechaev/nvcc4jupyter.git"
      ],
      "execution_count": null,
      "outputs": [
        {
          "output_type": "stream",
          "text": [
            "Collecting git+git://github.com/andreinechaev/nvcc4jupyter.git\n",
            "  Cloning git://github.com/andreinechaev/nvcc4jupyter.git to /tmp/pip-req-build-zhweiosq\n",
            "  Running command git clone -q git://github.com/andreinechaev/nvcc4jupyter.git /tmp/pip-req-build-zhweiosq\n",
            "Building wheels for collected packages: NVCCPlugin\n",
            "  Building wheel for NVCCPlugin (setup.py) ... \u001b[?25l\u001b[?25hdone\n",
            "  Created wheel for NVCCPlugin: filename=NVCCPlugin-0.0.2-cp36-none-any.whl size=4307 sha256=13991a879578cc0d81d7971da9e01a9ed8e01cf16b163d8c841fb2c003b9a59c\n",
            "  Stored in directory: /tmp/pip-ephem-wheel-cache-74ez5ut6/wheels/10/c2/05/ca241da37bff77d60d31a9174f988109c61ba989e4d4650516\n",
            "Successfully built NVCCPlugin\n",
            "Installing collected packages: NVCCPlugin\n",
            "Successfully installed NVCCPlugin-0.0.2\n"
          ],
          "name": "stdout"
        }
      ]
    },
    {
      "cell_type": "code",
      "metadata": {
        "id": "32173GAF4Yth",
        "colab": {
          "base_uri": "https://localhost:8080/"
        },
        "outputId": "ba980a0a-4517-40ab-8b00-0ffafc4e44bc"
      },
      "source": [
        "%load_ext nvcc_plugin"
      ],
      "execution_count": null,
      "outputs": [
        {
          "output_type": "stream",
          "text": [
            "created output directory at /content/src\n",
            "Out bin /content/result.out\n"
          ],
          "name": "stdout"
        }
      ]
    },
    {
      "cell_type": "code",
      "metadata": {
        "id": "YbEo2ndL26FF",
        "colab": {
          "base_uri": "https://localhost:8080/"
        },
        "outputId": "d4d10973-74bb-431f-fb24-f0e6b99b151d"
      },
      "source": [
        "%%cu\n",
        "#include \"cuda_runtime.h\"\n",
        "#include \"device_launch_parameters.h\"\n",
        "\n",
        "#include <stdio.h>\n",
        "\n",
        "cudaError_t addWithCuda(int *c, const int *a, const int *b, unsigned int size);\n",
        "\n",
        "__global__ void addKernel(int *c, const int *a, const int *b)\n",
        "{\n",
        "    int i = threadIdx.x;\n",
        "    c[i] = a[i] + b[i];\n",
        "}\n",
        "\n",
        "int main()\n",
        "{\n",
        "    const int arraySize = 5;\n",
        "    const int a[arraySize] = { 1, 2, 3, 4, 5 };\n",
        "    const int b[arraySize] = { 10, 20, 30, 40, 50 };\n",
        "    int c[arraySize] = { 0 };\n",
        "\n",
        "    // Add vectors in parallel.\n",
        "    cudaError_t cudaStatus = addWithCuda(c, a, b, arraySize);\n",
        "    if (cudaStatus != cudaSuccess) {\n",
        "        fprintf(stderr, \"addWithCuda failed!\");\n",
        "        return 1;\n",
        "    }\n",
        "\n",
        "    printf(\"{1,2,3,4,5} + {10,20,30,40,50} = {%d,%d,%d,%d,%d}\\n\",\n",
        "        c[0], c[1], c[2], c[3], c[4]);\n",
        "\n",
        "    // cudaDeviceReset must be called before exiting in order for profiling and\n",
        "    // tracing tools such as Nsight and Visual Profiler to show complete traces.\n",
        "    cudaStatus = cudaDeviceReset();\n",
        "    if (cudaStatus != cudaSuccess) {\n",
        "        fprintf(stderr, \"cudaDeviceReset failed!\");\n",
        "        return 1;\n",
        "    }\n",
        "\n",
        "    return 0;\n",
        "}\n",
        "\n",
        "// Helper function for using CUDA to add vectors in parallel.\n",
        "cudaError_t addWithCuda(int *c, const int *a, const int *b, unsigned int size)\n",
        "{\n",
        "    int *dev_a = 0;\n",
        "    int *dev_b = 0;\n",
        "    int *dev_c = 0;\n",
        "    cudaError_t cudaStatus;\n",
        "\n",
        "    // Choose which GPU to run on, change this on a multi-GPU system.\n",
        "    cudaStatus = cudaSetDevice(0);\n",
        "    if (cudaStatus != cudaSuccess) {\n",
        "        fprintf(stderr, \"cudaSetDevice failed!  Do you have a CUDA-capable GPU installed?\");\n",
        "        goto Error;\n",
        "    }\n",
        "\n",
        "    // Allocate GPU buffers for three vectors (two input, one output)    .\n",
        "    cudaStatus = cudaMalloc((void**)&dev_c, size * sizeof(int));\n",
        "    if (cudaStatus != cudaSuccess) {\n",
        "        fprintf(stderr, \"cudaMalloc failed!\");\n",
        "        goto Error;\n",
        "    }\n",
        "\n",
        "    cudaStatus = cudaMalloc((void**)&dev_a, size * sizeof(int));\n",
        "    if (cudaStatus != cudaSuccess) {\n",
        "        fprintf(stderr, \"cudaMalloc failed!\");\n",
        "        goto Error;\n",
        "    }\n",
        "\n",
        "    cudaStatus = cudaMalloc((void**)&dev_b, size * sizeof(int));\n",
        "    if (cudaStatus != cudaSuccess) {\n",
        "        fprintf(stderr, \"cudaMalloc failed!\");\n",
        "        goto Error;\n",
        "    }\n",
        "\n",
        "    // Copy input vectors from host memory to GPU buffers.\n",
        "    cudaStatus = cudaMemcpy(dev_a, a, size * sizeof(int), cudaMemcpyHostToDevice);\n",
        "    if (cudaStatus != cudaSuccess) {\n",
        "        fprintf(stderr, \"cudaMemcpy failed!\");\n",
        "        goto Error;\n",
        "    }\n",
        "\n",
        "    cudaStatus = cudaMemcpy(dev_b, b, size * sizeof(int), cudaMemcpyHostToDevice);\n",
        "    if (cudaStatus != cudaSuccess) {\n",
        "        fprintf(stderr, \"cudaMemcpy failed!\");\n",
        "        goto Error;\n",
        "    }\n",
        "\n",
        "    // Launch a kernel on the GPU with one thread for each element.\n",
        "    addKernel<<<1, size>>>(dev_c, dev_a, dev_b);\n",
        "\n",
        "    // Check for any errors launching the kernel\n",
        "    cudaStatus = cudaGetLastError();\n",
        "    if (cudaStatus != cudaSuccess) {\n",
        "        fprintf(stderr, \"addKernel launch failed: %s\\n\", cudaGetErrorString(cudaStatus));\n",
        "        goto Error;\n",
        "    }\n",
        "    \n",
        "    // cudaDeviceSynchronize waits for the kernel to finish, and returns\n",
        "    // any errors encountered during the launch.\n",
        "    cudaStatus = cudaDeviceSynchronize();\n",
        "    if (cudaStatus != cudaSuccess) {\n",
        "        fprintf(stderr, \"cudaDeviceSynchronize returned error code %d after launching addKernel!\\n\", cudaStatus);\n",
        "        goto Error;\n",
        "    }\n",
        "\n",
        "    // Copy output vector from GPU buffer to host memory.\n",
        "    cudaStatus = cudaMemcpy(c, dev_c, size * sizeof(int), cudaMemcpyDeviceToHost);\n",
        "    if (cudaStatus != cudaSuccess) {\n",
        "        fprintf(stderr, \"cudaMemcpy failed!\");\n",
        "        goto Error;\n",
        "    }\n",
        "\n",
        "Error:\n",
        "    cudaFree(dev_c);\n",
        "    cudaFree(dev_a);\n",
        "    cudaFree(dev_b);\n",
        "    \n",
        "    return cudaStatus;\n",
        "}\n"
      ],
      "execution_count": null,
      "outputs": [
        {
          "output_type": "stream",
          "text": [
            "{1,2,3,4,5} + {10,20,30,40,50} = {11,22,33,44,55}\n",
            "\n"
          ],
          "name": "stdout"
        }
      ]
    }
  ]
}